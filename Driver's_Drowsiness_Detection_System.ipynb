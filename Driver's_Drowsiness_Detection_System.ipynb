{
  "nbformat": 4,
  "nbformat_minor": 0,
  "metadata": {
    "colab": {
      "provenance": []
    },
    "kernelspec": {
      "name": "python3",
      "display_name": "Python 3"
    },
    "language_info": {
      "name": "python"
    }
  },
  "cells": [
    {
      "cell_type": "markdown",
      "source": [
        "#Driver's Drowsiness Detection System"
      ],
      "metadata": {
        "id": "CVwEbKTkaYEv"
      }
    },
    {
      "cell_type": "code",
      "execution_count": null,
      "metadata": {
        "id": "Oc3uwDr3aXHJ"
      },
      "outputs": [],
      "source": [
        "import cv2\n",
        "import dlib\n",
        "from scipy.spatial import distance as dist\n",
        "import time\n",
        "import threading\n",
        "import winsound"
      ]
    },
    {
      "cell_type": "code",
      "source": [
        "# Function to calculate eye aspect ratio (EAR)\n",
        "def eye_aspect_ratio(eye):\n",
        "    A = dist.euclidean(eye[1], eye[5])\n",
        "    B = dist.euclidean(eye[2], eye[4])\n",
        "    C = dist.euclidean(eye[0], eye[3])\n",
        "    ear = (A + B) / (2.0 * C)\n",
        "    return ear"
      ],
      "metadata": {
        "id": "CdE7UDuAambE"
      },
      "execution_count": null,
      "outputs": []
    },
    {
      "cell_type": "code",
      "source": [
        "# Function to calculate mouth aspect ratio (MAR)\n",
        "def mouth_aspect_ratio(mouth):\n",
        "    A = dist.euclidean(mouth[14], mouth[18])\n",
        "    C = dist.euclidean(mouth[12], mouth[16])\n",
        "    mar = A / C\n",
        "    return mar"
      ],
      "metadata": {
        "id": "FhwK_RfTathW"
      },
      "execution_count": null,
      "outputs": []
    },
    {
      "cell_type": "code",
      "source": [
        "# Thresholds for eye aspect ratio (EAR) and mouth aspect ratio (MAR)\n",
        "EAR_THRESHOLD = 0.25\n",
        "MAR_THRESHOLD = 0.5\n",
        "CLOSED_EYES_DURATION_THRESHOLD = 2  # in seconds\n",
        "\n",
        "# Initialize the dlib face detector and facial landmark predictor\n",
        "detector = dlib.get_frontal_face_detector()\n",
        "predictor = dlib.shape_predictor(\"shape_predictor_68_face_landmarks.dat\")"
      ],
      "metadata": {
        "id": "jOlNX0L2azv-"
      },
      "execution_count": null,
      "outputs": []
    },
    {
      "cell_type": "code",
      "source": [
        "# Initialize the video capture object\n",
        "cap = cv2.VideoCapture(0)\n",
        "\n",
        "# Initialize variables for drowsiness detection\n",
        "start_time_closed = None\n",
        "alert_playing = False"
      ],
      "metadata": {
        "id": "N8mn4CKdbDrs"
      },
      "execution_count": null,
      "outputs": []
    },
    {
      "cell_type": "code",
      "source": [
        "# Function to play alert sound asynchronously\n",
        "def play_alert_sound():\n",
        "    winsound.PlaySound('final_alarm.wav', winsound.SND_FILENAME)"
      ],
      "metadata": {
        "id": "O-R9lDFBa5SD"
      },
      "execution_count": null,
      "outputs": []
    },
    {
      "cell_type": "code",
      "source": [
        "while True:\n",
        "    ret, frame = cap.read()\n",
        "    if not ret:\n",
        "        break\n",
        "\n",
        "    # Convert the frame to grayscale\n",
        "    gray = cv2.cvtColor(frame, cv2.COLOR_BGR2GRAY)\n",
        "\n",
        "    # Detect faces in the grayscale frame\n",
        "    faces = detector(gray)\n",
        "\n",
        "    for face in faces:\n",
        "        # Get facial landmarks\n",
        "        shape = predictor(gray, face)\n",
        "        landmarks = [(shape.part(i).x, shape.part(i).y) for i in range(68)]\n",
        "\n",
        "        # Extract eye and mouth landmarks\n",
        "        left_eye = landmarks[36:42]\n",
        "        right_eye = landmarks[42:48]\n",
        "        mouth = landmarks[48:68]\n",
        "\n",
        "        # Calculate eye aspect ratio (EAR) for each eye\n",
        "        left_ear = eye_aspect_ratio(left_eye)\n",
        "        right_ear = eye_aspect_ratio(right_eye)\n",
        "        avg_ear = (left_ear + right_ear) / 2\n",
        "\n",
        "        # Calculate mouth aspect ratio (MAR)\n",
        "        mar = mouth_aspect_ratio(mouth)\n",
        "\n",
        "        # Check if eyes are closed based on EAR\n",
        "        if avg_ear < EAR_THRESHOLD:\n",
        "            if start_time_closed is None:\n",
        "                start_time_closed = time.time()\n",
        "            elif time.time() - start_time_closed > CLOSED_EYES_DURATION_THRESHOLD:\n",
        "                drowsy_eyes = True\n",
        "        else:\n",
        "            start_time_closed = None\n",
        "            drowsy_eyes = False\n",
        "\n",
        "        # Check if yawning is detected based on MAR\n",
        "        if mar > MAR_THRESHOLD:\n",
        "            drowsy_yawn = True\n",
        "        else:\n",
        "            drowsy_yawn = False\n",
        "\n",
        "        # If eyes are closed for more than 2 seconds or both eye closure and yawning are detected, play alert sound asynchronously\n",
        "        if drowsy_eyes or (drowsy_eyes and drowsy_yawn):\n",
        "            if not alert_playing:\n",
        "                alert_thread = threading.Thread(target=play_alert_sound)\n",
        "                alert_thread.start()\n",
        "                alert_playing = True\n",
        "        else:\n",
        "            alert_playing = False\n",
        "\n",
        "        # Draw rectangle around the face\n",
        "        x, y, w, h = face.left(), face.top(), face.width(), face.height()\n",
        "        cv2.rectangle(frame, (x, y), (x + w, y + h), (0, 255, 0), 2)\n",
        "\n",
        "        # Draw rectangle around the eyes\n",
        "        for (x, y) in left_eye:\n",
        "            cv2.circle(frame, (x, y), 2, (0, 0, 255), -1)\n",
        "        for (x, y) in right_eye:\n",
        "            cv2.circle(frame, (x, y), 2, (0, 0, 255), -1)\n",
        "\n",
        "        # Draw rectangle around the mouth\n",
        "        for (x, y) in mouth:\n",
        "            cv2.circle(frame, (x, y), 2, (255, 0, 0), -1)\n",
        "\n",
        "    # Display the frame\n",
        "    cv2.imshow('Frame', frame)\n",
        "\n",
        "    # Break the loop if 'q' is pressed\n",
        "    if cv2.waitKey(1) & 0xFF == ord('q'):\n",
        "        break\n",
        "\n",
        "# Release video capture object and close all windows\n",
        "cap.release()\n",
        "cv2.destroyAllWindows()"
      ],
      "metadata": {
        "id": "uTl73a01a-SL"
      },
      "execution_count": null,
      "outputs": []
    }
  ]
}